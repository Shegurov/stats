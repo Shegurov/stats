{
 "cells": [
  {
   "cell_type": "code",
   "execution_count": 2,
   "metadata": {},
   "outputs": [],
   "source": [
    "import pandas as pd\n",
    "import numpy as np\n",
    "import matplotlib.pyplot as plt\n",
    "from sklearn.discriminant_analysis import LinearDiscriminantAnalysis\n",
    "from sklearn.metrics import accuracy_score, precision_score, recall_score\n",
    "from sklearn.model_selection import train_test_split"
   ]
  },
  {
   "cell_type": "markdown",
   "metadata": {},
   "source": [
    "Дан файл HR.csv с данными по опросу уровня удовлетворенности сотрудниками работой.\n",
    "Файл доступен тут -https://drive.google.com/file/d/1INgo03nal-vwFJe7Lec5vOUtOwfJdUr1/view?usp=sharingПризнаки:\n",
    "\n",
    "1.satisfaction_level​ - Уровень удовлетворенности работой\n",
    "\n",
    "2.Last_evaluation ​- Время с момента последней оценки в годах\n",
    "\n",
    "3.number_projects​ - Количество проектов, выполненных за время работы\n",
    "\n",
    "4.average_monthly_hours​ - Среднее количество часов на рабочем месте в месяц\n",
    "\n",
    "5.time_spend_company​ - Стаж работы в компании в годах\n",
    "\n",
    "6.work_accident​ - Происходили ли несчастные случаи на рабочем месте с сотрудником\n",
    "\n",
    "7.left​ - уволился ли сотрудник\n",
    "\n",
    "8.promotion_last_5years​ - повышался ли сотрудник за последние пять лет\n",
    "\n",
    "9.department ​- отдел в котором работает сотрудник\n",
    "\n",
    "10.salary​ - относительный уровень зарплаты\n",
    "\n",
    "Требуется выполнить следующее задание:\n",
    "# Задание"
   ]
  },
  {
   "cell_type": "markdown",
   "metadata": {},
   "source": [
    "Загрузите файл HR.csv в pandas dataframe"
   ]
  },
  {
   "cell_type": "code",
   "execution_count": 3,
   "metadata": {},
   "outputs": [
    {
     "name": "stdout",
     "output_type": "stream",
     "text": [
      "<class 'pandas.core.frame.DataFrame'>\n",
      "RangeIndex: 14999 entries, 0 to 14998\n",
      "Data columns (total 10 columns):\n",
      " #   Column                 Non-Null Count  Dtype  \n",
      "---  ------                 --------------  -----  \n",
      " 0   satisfaction_level     14999 non-null  float64\n",
      " 1   last_evaluation        14999 non-null  float64\n",
      " 2   number_project         14999 non-null  int64  \n",
      " 3   average_montly_hours   14999 non-null  int64  \n",
      " 4   time_spend_company     14999 non-null  int64  \n",
      " 5   Work_accident          14999 non-null  int64  \n",
      " 6   left                   14999 non-null  int64  \n",
      " 7   promotion_last_5years  14999 non-null  int64  \n",
      " 8   department             14999 non-null  object \n",
      " 9   salary                 14999 non-null  object \n",
      "dtypes: float64(2), int64(6), object(2)\n",
      "memory usage: 1.1+ MB\n"
     ]
    }
   ],
   "source": [
    "df = pd.read_csv('HR.csv')\n",
    "df.info()"
   ]
  },
  {
   "cell_type": "markdown",
   "metadata": {},
   "source": [
    "Рассчитайте основные статистики для переменных(среднее,медиана,мода,мин/макс,сред.отклонение)"
   ]
  },
  {
   "cell_type": "code",
   "execution_count": 11,
   "metadata": {},
   "outputs": [
    {
     "data": {
      "text/plain": [
       "{'satisfaction_level': 0.1,\n",
       " 'last_evaluation': 0.55,\n",
       " 'number_project': 4,\n",
       " 'average_montly_hours': 135,\n",
       " 'time_spend_company': 3,\n",
       " 'Work_accident': 0,\n",
       " 'left': 0,\n",
       " 'promotion_last_5years': 0,\n",
       " 'department': 'sales',\n",
       " 'salary': 'low'}"
      ]
     },
     "execution_count": 11,
     "metadata": {},
     "output_type": "execute_result"
    }
   ],
   "source": [
    "def calculate_mode(df):\n",
    "    result = {}\n",
    "    for column in df.columns:\n",
    "        result[column] = df[column].mode()[0]\n",
    "    return result\n",
    "calculate_mode(df)"
   ]
  },
  {
   "cell_type": "code",
   "execution_count": 12,
   "metadata": {},
   "outputs": [
    {
     "data": {
      "text/html": [
       "<div>\n",
       "<style scoped>\n",
       "    .dataframe tbody tr th:only-of-type {\n",
       "        vertical-align: middle;\n",
       "    }\n",
       "\n",
       "    .dataframe tbody tr th {\n",
       "        vertical-align: top;\n",
       "    }\n",
       "\n",
       "    .dataframe thead th {\n",
       "        text-align: right;\n",
       "    }\n",
       "</style>\n",
       "<table border=\"1\" class=\"dataframe\">\n",
       "  <thead>\n",
       "    <tr style=\"text-align: right;\">\n",
       "      <th></th>\n",
       "      <th>satisfaction_level</th>\n",
       "      <th>last_evaluation</th>\n",
       "      <th>number_project</th>\n",
       "      <th>average_montly_hours</th>\n",
       "      <th>time_spend_company</th>\n",
       "      <th>Work_accident</th>\n",
       "      <th>left</th>\n",
       "      <th>promotion_last_5years</th>\n",
       "    </tr>\n",
       "  </thead>\n",
       "  <tbody>\n",
       "    <tr>\n",
       "      <th>count</th>\n",
       "      <td>14999.000000</td>\n",
       "      <td>14999.000000</td>\n",
       "      <td>14999.000000</td>\n",
       "      <td>14999.000000</td>\n",
       "      <td>14999.000000</td>\n",
       "      <td>14999.000000</td>\n",
       "      <td>14999.000000</td>\n",
       "      <td>14999.000000</td>\n",
       "    </tr>\n",
       "    <tr>\n",
       "      <th>mean</th>\n",
       "      <td>0.612834</td>\n",
       "      <td>0.716102</td>\n",
       "      <td>3.803054</td>\n",
       "      <td>201.050337</td>\n",
       "      <td>3.498233</td>\n",
       "      <td>0.144610</td>\n",
       "      <td>0.238083</td>\n",
       "      <td>0.021268</td>\n",
       "    </tr>\n",
       "    <tr>\n",
       "      <th>std</th>\n",
       "      <td>0.248631</td>\n",
       "      <td>0.171169</td>\n",
       "      <td>1.232592</td>\n",
       "      <td>49.943099</td>\n",
       "      <td>1.460136</td>\n",
       "      <td>0.351719</td>\n",
       "      <td>0.425924</td>\n",
       "      <td>0.144281</td>\n",
       "    </tr>\n",
       "    <tr>\n",
       "      <th>min</th>\n",
       "      <td>0.090000</td>\n",
       "      <td>0.360000</td>\n",
       "      <td>2.000000</td>\n",
       "      <td>96.000000</td>\n",
       "      <td>2.000000</td>\n",
       "      <td>0.000000</td>\n",
       "      <td>0.000000</td>\n",
       "      <td>0.000000</td>\n",
       "    </tr>\n",
       "    <tr>\n",
       "      <th>25%</th>\n",
       "      <td>0.440000</td>\n",
       "      <td>0.560000</td>\n",
       "      <td>3.000000</td>\n",
       "      <td>156.000000</td>\n",
       "      <td>3.000000</td>\n",
       "      <td>0.000000</td>\n",
       "      <td>0.000000</td>\n",
       "      <td>0.000000</td>\n",
       "    </tr>\n",
       "    <tr>\n",
       "      <th>50%</th>\n",
       "      <td>0.640000</td>\n",
       "      <td>0.720000</td>\n",
       "      <td>4.000000</td>\n",
       "      <td>200.000000</td>\n",
       "      <td>3.000000</td>\n",
       "      <td>0.000000</td>\n",
       "      <td>0.000000</td>\n",
       "      <td>0.000000</td>\n",
       "    </tr>\n",
       "    <tr>\n",
       "      <th>75%</th>\n",
       "      <td>0.820000</td>\n",
       "      <td>0.870000</td>\n",
       "      <td>5.000000</td>\n",
       "      <td>245.000000</td>\n",
       "      <td>4.000000</td>\n",
       "      <td>0.000000</td>\n",
       "      <td>0.000000</td>\n",
       "      <td>0.000000</td>\n",
       "    </tr>\n",
       "    <tr>\n",
       "      <th>max</th>\n",
       "      <td>1.000000</td>\n",
       "      <td>1.000000</td>\n",
       "      <td>7.000000</td>\n",
       "      <td>310.000000</td>\n",
       "      <td>10.000000</td>\n",
       "      <td>1.000000</td>\n",
       "      <td>1.000000</td>\n",
       "      <td>1.000000</td>\n",
       "    </tr>\n",
       "  </tbody>\n",
       "</table>\n",
       "</div>"
      ],
      "text/plain": [
       "       satisfaction_level  last_evaluation  number_project  \\\n",
       "count        14999.000000     14999.000000    14999.000000   \n",
       "mean             0.612834         0.716102        3.803054   \n",
       "std              0.248631         0.171169        1.232592   \n",
       "min              0.090000         0.360000        2.000000   \n",
       "25%              0.440000         0.560000        3.000000   \n",
       "50%              0.640000         0.720000        4.000000   \n",
       "75%              0.820000         0.870000        5.000000   \n",
       "max              1.000000         1.000000        7.000000   \n",
       "\n",
       "       average_montly_hours  time_spend_company  Work_accident          left  \\\n",
       "count          14999.000000        14999.000000   14999.000000  14999.000000   \n",
       "mean             201.050337            3.498233       0.144610      0.238083   \n",
       "std               49.943099            1.460136       0.351719      0.425924   \n",
       "min               96.000000            2.000000       0.000000      0.000000   \n",
       "25%              156.000000            3.000000       0.000000      0.000000   \n",
       "50%              200.000000            3.000000       0.000000      0.000000   \n",
       "75%              245.000000            4.000000       0.000000      0.000000   \n",
       "max              310.000000           10.000000       1.000000      1.000000   \n",
       "\n",
       "       promotion_last_5years  \n",
       "count           14999.000000  \n",
       "mean                0.021268  \n",
       "std                 0.144281  \n",
       "min                 0.000000  \n",
       "25%                 0.000000  \n",
       "50%                 0.000000  \n",
       "75%                 0.000000  \n",
       "max                 1.000000  "
      ]
     },
     "execution_count": 12,
     "metadata": {},
     "output_type": "execute_result"
    }
   ],
   "source": [
    "df.describe()"
   ]
  },
  {
   "cell_type": "markdown",
   "metadata": {},
   "source": [
    "Рассчитайте и визуализировать корреляционную матрицу дляколичественных переменных. Определите две самые скоррелированные и две наименеескоррелированные переменные."
   ]
  },
  {
   "cell_type": "code",
   "execution_count": 28,
   "metadata": {},
   "outputs": [
    {
     "data": {
      "text/html": [
       "<style  type=\"text/css\" >\n",
       "    #T_ba73332b_1b46_11eb_a699_f8ac652d1f71row0_col0 {\n",
       "            background-color:  #b40426;\n",
       "            color:  #f1f1f1;\n",
       "        }    #T_ba73332b_1b46_11eb_a699_f8ac652d1f71row0_col1 {\n",
       "            background-color:  #b1cbfc;\n",
       "            color:  #000000;\n",
       "        }    #T_ba73332b_1b46_11eb_a699_f8ac652d1f71row0_col2 {\n",
       "            background-color:  #7396f5;\n",
       "            color:  #000000;\n",
       "        }    #T_ba73332b_1b46_11eb_a699_f8ac652d1f71row0_col3 {\n",
       "            background-color:  #92b4fe;\n",
       "            color:  #000000;\n",
       "        }    #T_ba73332b_1b46_11eb_a699_f8ac652d1f71row0_col4 {\n",
       "            background-color:  #7ea1fa;\n",
       "            color:  #000000;\n",
       "        }    #T_ba73332b_1b46_11eb_a699_f8ac652d1f71row0_col5 {\n",
       "            background-color:  #a6c4fe;\n",
       "            color:  #000000;\n",
       "        }    #T_ba73332b_1b46_11eb_a699_f8ac652d1f71row0_col6 {\n",
       "            background-color:  #3b4cc0;\n",
       "            color:  #f1f1f1;\n",
       "        }    #T_ba73332b_1b46_11eb_a699_f8ac652d1f71row0_col7 {\n",
       "            background-color:  #9ebeff;\n",
       "            color:  #000000;\n",
       "        }    #T_ba73332b_1b46_11eb_a699_f8ac652d1f71row1_col0 {\n",
       "            background-color:  #b1cbfc;\n",
       "            color:  #000000;\n",
       "        }    #T_ba73332b_1b46_11eb_a699_f8ac652d1f71row1_col1 {\n",
       "            background-color:  #b40426;\n",
       "            color:  #f1f1f1;\n",
       "        }    #T_ba73332b_1b46_11eb_a699_f8ac652d1f71row1_col2 {\n",
       "            background-color:  #e5d8d1;\n",
       "            color:  #000000;\n",
       "        }    #T_ba73332b_1b46_11eb_a699_f8ac652d1f71row1_col3 {\n",
       "            background-color:  #e3d9d3;\n",
       "            color:  #000000;\n",
       "        }    #T_ba73332b_1b46_11eb_a699_f8ac652d1f71row1_col4 {\n",
       "            background-color:  #b7cff9;\n",
       "            color:  #000000;\n",
       "        }    #T_ba73332b_1b46_11eb_a699_f8ac652d1f71row1_col5 {\n",
       "            background-color:  #96b7ff;\n",
       "            color:  #000000;\n",
       "        }    #T_ba73332b_1b46_11eb_a699_f8ac652d1f71row1_col6 {\n",
       "            background-color:  #98b9ff;\n",
       "            color:  #000000;\n",
       "        }    #T_ba73332b_1b46_11eb_a699_f8ac652d1f71row1_col7 {\n",
       "            background-color:  #96b7ff;\n",
       "            color:  #000000;\n",
       "        }    #T_ba73332b_1b46_11eb_a699_f8ac652d1f71row2_col0 {\n",
       "            background-color:  #7396f5;\n",
       "            color:  #000000;\n",
       "        }    #T_ba73332b_1b46_11eb_a699_f8ac652d1f71row2_col1 {\n",
       "            background-color:  #e5d8d1;\n",
       "            color:  #000000;\n",
       "        }    #T_ba73332b_1b46_11eb_a699_f8ac652d1f71row2_col2 {\n",
       "            background-color:  #b40426;\n",
       "            color:  #f1f1f1;\n",
       "        }    #T_ba73332b_1b46_11eb_a699_f8ac652d1f71row2_col3 {\n",
       "            background-color:  #efcfbf;\n",
       "            color:  #000000;\n",
       "        }    #T_ba73332b_1b46_11eb_a699_f8ac652d1f71row2_col4 {\n",
       "            background-color:  #c6d6f1;\n",
       "            color:  #000000;\n",
       "        }    #T_ba73332b_1b46_11eb_a699_f8ac652d1f71row2_col5 {\n",
       "            background-color:  #96b7ff;\n",
       "            color:  #000000;\n",
       "        }    #T_ba73332b_1b46_11eb_a699_f8ac652d1f71row2_col6 {\n",
       "            background-color:  #9dbdff;\n",
       "            color:  #000000;\n",
       "        }    #T_ba73332b_1b46_11eb_a699_f8ac652d1f71row2_col7 {\n",
       "            background-color:  #96b7ff;\n",
       "            color:  #000000;\n",
       "        }    #T_ba73332b_1b46_11eb_a699_f8ac652d1f71row3_col0 {\n",
       "            background-color:  #92b4fe;\n",
       "            color:  #000000;\n",
       "        }    #T_ba73332b_1b46_11eb_a699_f8ac652d1f71row3_col1 {\n",
       "            background-color:  #e3d9d3;\n",
       "            color:  #000000;\n",
       "        }    #T_ba73332b_1b46_11eb_a699_f8ac652d1f71row3_col2 {\n",
       "            background-color:  #efcfbf;\n",
       "            color:  #000000;\n",
       "        }    #T_ba73332b_1b46_11eb_a699_f8ac652d1f71row3_col3 {\n",
       "            background-color:  #b40426;\n",
       "            color:  #f1f1f1;\n",
       "        }    #T_ba73332b_1b46_11eb_a699_f8ac652d1f71row3_col4 {\n",
       "            background-color:  #b7cff9;\n",
       "            color:  #000000;\n",
       "        }    #T_ba73332b_1b46_11eb_a699_f8ac652d1f71row3_col5 {\n",
       "            background-color:  #94b6ff;\n",
       "            color:  #000000;\n",
       "        }    #T_ba73332b_1b46_11eb_a699_f8ac652d1f71row3_col6 {\n",
       "            background-color:  #a9c6fd;\n",
       "            color:  #000000;\n",
       "        }    #T_ba73332b_1b46_11eb_a699_f8ac652d1f71row3_col7 {\n",
       "            background-color:  #96b7ff;\n",
       "            color:  #000000;\n",
       "        }    #T_ba73332b_1b46_11eb_a699_f8ac652d1f71row4_col0 {\n",
       "            background-color:  #7ea1fa;\n",
       "            color:  #000000;\n",
       "        }    #T_ba73332b_1b46_11eb_a699_f8ac652d1f71row4_col1 {\n",
       "            background-color:  #b7cff9;\n",
       "            color:  #000000;\n",
       "        }    #T_ba73332b_1b46_11eb_a699_f8ac652d1f71row4_col2 {\n",
       "            background-color:  #c6d6f1;\n",
       "            color:  #000000;\n",
       "        }    #T_ba73332b_1b46_11eb_a699_f8ac652d1f71row4_col3 {\n",
       "            background-color:  #b7cff9;\n",
       "            color:  #000000;\n",
       "        }    #T_ba73332b_1b46_11eb_a699_f8ac652d1f71row4_col4 {\n",
       "            background-color:  #b40426;\n",
       "            color:  #f1f1f1;\n",
       "        }    #T_ba73332b_1b46_11eb_a699_f8ac652d1f71row4_col5 {\n",
       "            background-color:  #98b9ff;\n",
       "            color:  #000000;\n",
       "        }    #T_ba73332b_1b46_11eb_a699_f8ac652d1f71row4_col6 {\n",
       "            background-color:  #bbd1f8;\n",
       "            color:  #000000;\n",
       "        }    #T_ba73332b_1b46_11eb_a699_f8ac652d1f71row4_col7 {\n",
       "            background-color:  #a9c6fd;\n",
       "            color:  #000000;\n",
       "        }    #T_ba73332b_1b46_11eb_a699_f8ac652d1f71row5_col0 {\n",
       "            background-color:  #a6c4fe;\n",
       "            color:  #000000;\n",
       "        }    #T_ba73332b_1b46_11eb_a699_f8ac652d1f71row5_col1 {\n",
       "            background-color:  #96b7ff;\n",
       "            color:  #000000;\n",
       "        }    #T_ba73332b_1b46_11eb_a699_f8ac652d1f71row5_col2 {\n",
       "            background-color:  #96b7ff;\n",
       "            color:  #000000;\n",
       "        }    #T_ba73332b_1b46_11eb_a699_f8ac652d1f71row5_col3 {\n",
       "            background-color:  #94b6ff;\n",
       "            color:  #000000;\n",
       "        }    #T_ba73332b_1b46_11eb_a699_f8ac652d1f71row5_col4 {\n",
       "            background-color:  #98b9ff;\n",
       "            color:  #000000;\n",
       "        }    #T_ba73332b_1b46_11eb_a699_f8ac652d1f71row5_col5 {\n",
       "            background-color:  #b40426;\n",
       "            color:  #f1f1f1;\n",
       "        }    #T_ba73332b_1b46_11eb_a699_f8ac652d1f71row5_col6 {\n",
       "            background-color:  #7093f3;\n",
       "            color:  #000000;\n",
       "        }    #T_ba73332b_1b46_11eb_a699_f8ac652d1f71row5_col7 {\n",
       "            background-color:  #a1c0ff;\n",
       "            color:  #000000;\n",
       "        }    #T_ba73332b_1b46_11eb_a699_f8ac652d1f71row6_col0 {\n",
       "            background-color:  #3b4cc0;\n",
       "            color:  #f1f1f1;\n",
       "        }    #T_ba73332b_1b46_11eb_a699_f8ac652d1f71row6_col1 {\n",
       "            background-color:  #98b9ff;\n",
       "            color:  #000000;\n",
       "        }    #T_ba73332b_1b46_11eb_a699_f8ac652d1f71row6_col2 {\n",
       "            background-color:  #9dbdff;\n",
       "            color:  #000000;\n",
       "        }    #T_ba73332b_1b46_11eb_a699_f8ac652d1f71row6_col3 {\n",
       "            background-color:  #a9c6fd;\n",
       "            color:  #000000;\n",
       "        }    #T_ba73332b_1b46_11eb_a699_f8ac652d1f71row6_col4 {\n",
       "            background-color:  #bbd1f8;\n",
       "            color:  #000000;\n",
       "        }    #T_ba73332b_1b46_11eb_a699_f8ac652d1f71row6_col5 {\n",
       "            background-color:  #7093f3;\n",
       "            color:  #000000;\n",
       "        }    #T_ba73332b_1b46_11eb_a699_f8ac652d1f71row6_col6 {\n",
       "            background-color:  #b40426;\n",
       "            color:  #f1f1f1;\n",
       "        }    #T_ba73332b_1b46_11eb_a699_f8ac652d1f71row6_col7 {\n",
       "            background-color:  #88abfd;\n",
       "            color:  #000000;\n",
       "        }    #T_ba73332b_1b46_11eb_a699_f8ac652d1f71row7_col0 {\n",
       "            background-color:  #9ebeff;\n",
       "            color:  #000000;\n",
       "        }    #T_ba73332b_1b46_11eb_a699_f8ac652d1f71row7_col1 {\n",
       "            background-color:  #96b7ff;\n",
       "            color:  #000000;\n",
       "        }    #T_ba73332b_1b46_11eb_a699_f8ac652d1f71row7_col2 {\n",
       "            background-color:  #96b7ff;\n",
       "            color:  #000000;\n",
       "        }    #T_ba73332b_1b46_11eb_a699_f8ac652d1f71row7_col3 {\n",
       "            background-color:  #96b7ff;\n",
       "            color:  #000000;\n",
       "        }    #T_ba73332b_1b46_11eb_a699_f8ac652d1f71row7_col4 {\n",
       "            background-color:  #a9c6fd;\n",
       "            color:  #000000;\n",
       "        }    #T_ba73332b_1b46_11eb_a699_f8ac652d1f71row7_col5 {\n",
       "            background-color:  #a1c0ff;\n",
       "            color:  #000000;\n",
       "        }    #T_ba73332b_1b46_11eb_a699_f8ac652d1f71row7_col6 {\n",
       "            background-color:  #88abfd;\n",
       "            color:  #000000;\n",
       "        }    #T_ba73332b_1b46_11eb_a699_f8ac652d1f71row7_col7 {\n",
       "            background-color:  #b40426;\n",
       "            color:  #f1f1f1;\n",
       "        }</style><table id=\"T_ba73332b_1b46_11eb_a699_f8ac652d1f71\" ><thead>    <tr>        <th class=\"blank level0\" ></th>        <th class=\"col_heading level0 col0\" >satisfaction_level</th>        <th class=\"col_heading level0 col1\" >last_evaluation</th>        <th class=\"col_heading level0 col2\" >number_project</th>        <th class=\"col_heading level0 col3\" >average_montly_hours</th>        <th class=\"col_heading level0 col4\" >time_spend_company</th>        <th class=\"col_heading level0 col5\" >Work_accident</th>        <th class=\"col_heading level0 col6\" >left</th>        <th class=\"col_heading level0 col7\" >promotion_last_5years</th>    </tr></thead><tbody>\n",
       "                <tr>\n",
       "                        <th id=\"T_ba73332b_1b46_11eb_a699_f8ac652d1f71level0_row0\" class=\"row_heading level0 row0\" >satisfaction_level</th>\n",
       "                        <td id=\"T_ba73332b_1b46_11eb_a699_f8ac652d1f71row0_col0\" class=\"data row0 col0\" >1.000000</td>\n",
       "                        <td id=\"T_ba73332b_1b46_11eb_a699_f8ac652d1f71row0_col1\" class=\"data row0 col1\" >0.105021</td>\n",
       "                        <td id=\"T_ba73332b_1b46_11eb_a699_f8ac652d1f71row0_col2\" class=\"data row0 col2\" >-0.142970</td>\n",
       "                        <td id=\"T_ba73332b_1b46_11eb_a699_f8ac652d1f71row0_col3\" class=\"data row0 col3\" >-0.020048</td>\n",
       "                        <td id=\"T_ba73332b_1b46_11eb_a699_f8ac652d1f71row0_col4\" class=\"data row0 col4\" >-0.100866</td>\n",
       "                        <td id=\"T_ba73332b_1b46_11eb_a699_f8ac652d1f71row0_col5\" class=\"data row0 col5\" >0.058697</td>\n",
       "                        <td id=\"T_ba73332b_1b46_11eb_a699_f8ac652d1f71row0_col6\" class=\"data row0 col6\" >-0.388375</td>\n",
       "                        <td id=\"T_ba73332b_1b46_11eb_a699_f8ac652d1f71row0_col7\" class=\"data row0 col7\" >0.025605</td>\n",
       "            </tr>\n",
       "            <tr>\n",
       "                        <th id=\"T_ba73332b_1b46_11eb_a699_f8ac652d1f71level0_row1\" class=\"row_heading level0 row1\" >last_evaluation</th>\n",
       "                        <td id=\"T_ba73332b_1b46_11eb_a699_f8ac652d1f71row1_col0\" class=\"data row1 col0\" >0.105021</td>\n",
       "                        <td id=\"T_ba73332b_1b46_11eb_a699_f8ac652d1f71row1_col1\" class=\"data row1 col1\" >1.000000</td>\n",
       "                        <td id=\"T_ba73332b_1b46_11eb_a699_f8ac652d1f71row1_col2\" class=\"data row1 col2\" >0.349333</td>\n",
       "                        <td id=\"T_ba73332b_1b46_11eb_a699_f8ac652d1f71row1_col3\" class=\"data row1 col3\" >0.339742</td>\n",
       "                        <td id=\"T_ba73332b_1b46_11eb_a699_f8ac652d1f71row1_col4\" class=\"data row1 col4\" >0.131591</td>\n",
       "                        <td id=\"T_ba73332b_1b46_11eb_a699_f8ac652d1f71row1_col5\" class=\"data row1 col5\" >-0.007104</td>\n",
       "                        <td id=\"T_ba73332b_1b46_11eb_a699_f8ac652d1f71row1_col6\" class=\"data row1 col6\" >0.006567</td>\n",
       "                        <td id=\"T_ba73332b_1b46_11eb_a699_f8ac652d1f71row1_col7\" class=\"data row1 col7\" >-0.008684</td>\n",
       "            </tr>\n",
       "            <tr>\n",
       "                        <th id=\"T_ba73332b_1b46_11eb_a699_f8ac652d1f71level0_row2\" class=\"row_heading level0 row2\" >number_project</th>\n",
       "                        <td id=\"T_ba73332b_1b46_11eb_a699_f8ac652d1f71row2_col0\" class=\"data row2 col0\" >-0.142970</td>\n",
       "                        <td id=\"T_ba73332b_1b46_11eb_a699_f8ac652d1f71row2_col1\" class=\"data row2 col1\" >0.349333</td>\n",
       "                        <td id=\"T_ba73332b_1b46_11eb_a699_f8ac652d1f71row2_col2\" class=\"data row2 col2\" >1.000000</td>\n",
       "                        <td id=\"T_ba73332b_1b46_11eb_a699_f8ac652d1f71row2_col3\" class=\"data row2 col3\" >0.417211</td>\n",
       "                        <td id=\"T_ba73332b_1b46_11eb_a699_f8ac652d1f71row2_col4\" class=\"data row2 col4\" >0.196786</td>\n",
       "                        <td id=\"T_ba73332b_1b46_11eb_a699_f8ac652d1f71row2_col5\" class=\"data row2 col5\" >-0.004741</td>\n",
       "                        <td id=\"T_ba73332b_1b46_11eb_a699_f8ac652d1f71row2_col6\" class=\"data row2 col6\" >0.023787</td>\n",
       "                        <td id=\"T_ba73332b_1b46_11eb_a699_f8ac652d1f71row2_col7\" class=\"data row2 col7\" >-0.006064</td>\n",
       "            </tr>\n",
       "            <tr>\n",
       "                        <th id=\"T_ba73332b_1b46_11eb_a699_f8ac652d1f71level0_row3\" class=\"row_heading level0 row3\" >average_montly_hours</th>\n",
       "                        <td id=\"T_ba73332b_1b46_11eb_a699_f8ac652d1f71row3_col0\" class=\"data row3 col0\" >-0.020048</td>\n",
       "                        <td id=\"T_ba73332b_1b46_11eb_a699_f8ac652d1f71row3_col1\" class=\"data row3 col1\" >0.339742</td>\n",
       "                        <td id=\"T_ba73332b_1b46_11eb_a699_f8ac652d1f71row3_col2\" class=\"data row3 col2\" >0.417211</td>\n",
       "                        <td id=\"T_ba73332b_1b46_11eb_a699_f8ac652d1f71row3_col3\" class=\"data row3 col3\" >1.000000</td>\n",
       "                        <td id=\"T_ba73332b_1b46_11eb_a699_f8ac652d1f71row3_col4\" class=\"data row3 col4\" >0.127755</td>\n",
       "                        <td id=\"T_ba73332b_1b46_11eb_a699_f8ac652d1f71row3_col5\" class=\"data row3 col5\" >-0.010143</td>\n",
       "                        <td id=\"T_ba73332b_1b46_11eb_a699_f8ac652d1f71row3_col6\" class=\"data row3 col6\" >0.071287</td>\n",
       "                        <td id=\"T_ba73332b_1b46_11eb_a699_f8ac652d1f71row3_col7\" class=\"data row3 col7\" >-0.003544</td>\n",
       "            </tr>\n",
       "            <tr>\n",
       "                        <th id=\"T_ba73332b_1b46_11eb_a699_f8ac652d1f71level0_row4\" class=\"row_heading level0 row4\" >time_spend_company</th>\n",
       "                        <td id=\"T_ba73332b_1b46_11eb_a699_f8ac652d1f71row4_col0\" class=\"data row4 col0\" >-0.100866</td>\n",
       "                        <td id=\"T_ba73332b_1b46_11eb_a699_f8ac652d1f71row4_col1\" class=\"data row4 col1\" >0.131591</td>\n",
       "                        <td id=\"T_ba73332b_1b46_11eb_a699_f8ac652d1f71row4_col2\" class=\"data row4 col2\" >0.196786</td>\n",
       "                        <td id=\"T_ba73332b_1b46_11eb_a699_f8ac652d1f71row4_col3\" class=\"data row4 col3\" >0.127755</td>\n",
       "                        <td id=\"T_ba73332b_1b46_11eb_a699_f8ac652d1f71row4_col4\" class=\"data row4 col4\" >1.000000</td>\n",
       "                        <td id=\"T_ba73332b_1b46_11eb_a699_f8ac652d1f71row4_col5\" class=\"data row4 col5\" >0.002120</td>\n",
       "                        <td id=\"T_ba73332b_1b46_11eb_a699_f8ac652d1f71row4_col6\" class=\"data row4 col6\" >0.144822</td>\n",
       "                        <td id=\"T_ba73332b_1b46_11eb_a699_f8ac652d1f71row4_col7\" class=\"data row4 col7\" >0.067433</td>\n",
       "            </tr>\n",
       "            <tr>\n",
       "                        <th id=\"T_ba73332b_1b46_11eb_a699_f8ac652d1f71level0_row5\" class=\"row_heading level0 row5\" >Work_accident</th>\n",
       "                        <td id=\"T_ba73332b_1b46_11eb_a699_f8ac652d1f71row5_col0\" class=\"data row5 col0\" >0.058697</td>\n",
       "                        <td id=\"T_ba73332b_1b46_11eb_a699_f8ac652d1f71row5_col1\" class=\"data row5 col1\" >-0.007104</td>\n",
       "                        <td id=\"T_ba73332b_1b46_11eb_a699_f8ac652d1f71row5_col2\" class=\"data row5 col2\" >-0.004741</td>\n",
       "                        <td id=\"T_ba73332b_1b46_11eb_a699_f8ac652d1f71row5_col3\" class=\"data row5 col3\" >-0.010143</td>\n",
       "                        <td id=\"T_ba73332b_1b46_11eb_a699_f8ac652d1f71row5_col4\" class=\"data row5 col4\" >0.002120</td>\n",
       "                        <td id=\"T_ba73332b_1b46_11eb_a699_f8ac652d1f71row5_col5\" class=\"data row5 col5\" >1.000000</td>\n",
       "                        <td id=\"T_ba73332b_1b46_11eb_a699_f8ac652d1f71row5_col6\" class=\"data row5 col6\" >-0.154622</td>\n",
       "                        <td id=\"T_ba73332b_1b46_11eb_a699_f8ac652d1f71row5_col7\" class=\"data row5 col7\" >0.039245</td>\n",
       "            </tr>\n",
       "            <tr>\n",
       "                        <th id=\"T_ba73332b_1b46_11eb_a699_f8ac652d1f71level0_row6\" class=\"row_heading level0 row6\" >left</th>\n",
       "                        <td id=\"T_ba73332b_1b46_11eb_a699_f8ac652d1f71row6_col0\" class=\"data row6 col0\" >-0.388375</td>\n",
       "                        <td id=\"T_ba73332b_1b46_11eb_a699_f8ac652d1f71row6_col1\" class=\"data row6 col1\" >0.006567</td>\n",
       "                        <td id=\"T_ba73332b_1b46_11eb_a699_f8ac652d1f71row6_col2\" class=\"data row6 col2\" >0.023787</td>\n",
       "                        <td id=\"T_ba73332b_1b46_11eb_a699_f8ac652d1f71row6_col3\" class=\"data row6 col3\" >0.071287</td>\n",
       "                        <td id=\"T_ba73332b_1b46_11eb_a699_f8ac652d1f71row6_col4\" class=\"data row6 col4\" >0.144822</td>\n",
       "                        <td id=\"T_ba73332b_1b46_11eb_a699_f8ac652d1f71row6_col5\" class=\"data row6 col5\" >-0.154622</td>\n",
       "                        <td id=\"T_ba73332b_1b46_11eb_a699_f8ac652d1f71row6_col6\" class=\"data row6 col6\" >1.000000</td>\n",
       "                        <td id=\"T_ba73332b_1b46_11eb_a699_f8ac652d1f71row6_col7\" class=\"data row6 col7\" >-0.061788</td>\n",
       "            </tr>\n",
       "            <tr>\n",
       "                        <th id=\"T_ba73332b_1b46_11eb_a699_f8ac652d1f71level0_row7\" class=\"row_heading level0 row7\" >promotion_last_5years</th>\n",
       "                        <td id=\"T_ba73332b_1b46_11eb_a699_f8ac652d1f71row7_col0\" class=\"data row7 col0\" >0.025605</td>\n",
       "                        <td id=\"T_ba73332b_1b46_11eb_a699_f8ac652d1f71row7_col1\" class=\"data row7 col1\" >-0.008684</td>\n",
       "                        <td id=\"T_ba73332b_1b46_11eb_a699_f8ac652d1f71row7_col2\" class=\"data row7 col2\" >-0.006064</td>\n",
       "                        <td id=\"T_ba73332b_1b46_11eb_a699_f8ac652d1f71row7_col3\" class=\"data row7 col3\" >-0.003544</td>\n",
       "                        <td id=\"T_ba73332b_1b46_11eb_a699_f8ac652d1f71row7_col4\" class=\"data row7 col4\" >0.067433</td>\n",
       "                        <td id=\"T_ba73332b_1b46_11eb_a699_f8ac652d1f71row7_col5\" class=\"data row7 col5\" >0.039245</td>\n",
       "                        <td id=\"T_ba73332b_1b46_11eb_a699_f8ac652d1f71row7_col6\" class=\"data row7 col6\" >-0.061788</td>\n",
       "                        <td id=\"T_ba73332b_1b46_11eb_a699_f8ac652d1f71row7_col7\" class=\"data row7 col7\" >1.000000</td>\n",
       "            </tr>\n",
       "    </tbody></table>"
      ],
      "text/plain": [
       "<pandas.io.formats.style.Styler at 0x21be912cdc0>"
      ]
     },
     "execution_count": 28,
     "metadata": {},
     "output_type": "execute_result"
    }
   ],
   "source": [
    "corr = df.corr()\n",
    "corr.style.background_gradient(cmap='coolwarm', axis=None)"
   ]
  },
  {
   "cell_type": "markdown",
   "metadata": {},
   "source": [
    "Как мы видим, две самые скоррелированные переменные - это количество проектов и среднее количество часов на рабочем месте, что в целом логично :) \n",
    "Самые несвязанные переменные - это количество несчастных случаев на работе и стаж работы в компании. "
   ]
  },
  {
   "cell_type": "markdown",
   "metadata": {},
   "source": [
    "Рассчитайте сколько сотрудников работает в каждом департаменте."
   ]
  },
  {
   "cell_type": "code",
   "execution_count": 31,
   "metadata": {},
   "outputs": [
    {
     "data": {
      "text/plain": [
       "department\n",
       "IT             1227\n",
       "RandD           787\n",
       "accounting      767\n",
       "hr              739\n",
       "management      630\n",
       "marketing       858\n",
       "product_mng     902\n",
       "sales          4140\n",
       "support        2229\n",
       "technical      2720\n",
       "Name: satisfaction_level, dtype: int64"
      ]
     },
     "execution_count": 31,
     "metadata": {},
     "output_type": "execute_result"
    }
   ],
   "source": [
    "department_count = df.groupby('department').count()\n",
    "department_count['satisfaction_level']"
   ]
  },
  {
   "cell_type": "markdown",
   "metadata": {},
   "source": [
    "Как видно из таблицы, в продажах и маркетинге в компании задействована почти треть всего штата, что, возможно, свидетельствует о том, что компания тороговая или оказывающая услуги (т.к. производственного персонала нет совсем). Смущает большое количество бухгалтеров и hr - слишком много на 15 0000.  При этом есть отдельная, выделенная группа продакт менеджеров, количество людей в ИТ, саппорте и техническом отделе велико - с высокой долей вероятности мы имеем дело с компанией, которая разрабатывает или внедряет ПО."
   ]
  },
  {
   "cell_type": "markdown",
   "metadata": {},
   "source": [
    "Показать распределение сотрудников по зарплатам."
   ]
  },
  {
   "cell_type": "code",
   "execution_count": 38,
   "metadata": {},
   "outputs": [
    {
     "data": {
      "text/plain": [
       "Text(0.5, 1.0, 'Распределние сотрудников по зарплатам')"
      ]
     },
     "execution_count": 38,
     "metadata": {},
     "output_type": "execute_result"
    },
    {
     "data": {
      "image/png": "[encoded data removed]",
      "text/plain": [
       "<Figure size 432x288 with 1 Axes>"
      ]
     },
     "metadata": {},
     "output_type": "display_data"
    }
   ],
   "source": [
    "salary_count = df.groupby('salary').count()\n",
    "plot = salary_count['satisfaction_level'].plot(kind='pie', autopct='%1.1f%%')\n",
    "plot.set_ylabel('')\n",
    "plot.set_title('Распределние сотрудников по зарплатам')"
   ]
  },
  {
   "cell_type": "markdown",
   "metadata": {},
   "source": [
    "Как видно из диаграммы, почти половина сотрудников компании получают низкую компенсацию, чуть меньше имеет среднюю зарплату, и только 8 из 100 человек в компании зарабатывают много. Наверное, это логично :) \n",
    "Конечно, точные данные о зарплатах позволили бы нам понять более точно распределение зарплат. Так, возможно что \"средняя\" и \"низкая\" между собой отличается не критично, тогда можно было бы говорить и примерно ровном среднем уровне зарплат по всей компании. "
   ]
  },
  {
   "cell_type": "markdown",
   "metadata": {},
   "source": [
    "Показать распределение сотрудников по зарплатам в каждом департаменте по отдельности"
   ]
  },
  {
   "cell_type": "code",
   "execution_count": 74,
   "metadata": {},
   "outputs": [
    {
     "data": {
      "text/plain": [
       "<matplotlib.axes._subplots.AxesSubplot at 0x21bd8424850>"
      ]
     },
     "execution_count": 74,
     "metadata": {},
     "output_type": "execute_result"
    },
    {
     "data": {
      "image/png": "[encoded data removed]",
      "text/plain": [
       "<Figure size 432x288 with 1 Axes>"
      ]
     },
     "metadata": {
      "needs_background": "light"
     },
     "output_type": "display_data"
    }
   ],
   "source": [
    "df_salaries_departments = df[['salary', 'department']]\n",
    "table = pd.pivot_table(df_salaries_departments, columns = 'salary', index = 'department', aggfunc=np.count_nonzero)\n",
    "table.plot(kind='bar', rot=45)"
   ]
  },
  {
   "cell_type": "markdown",
   "metadata": {},
   "source": [
    "Очевидно, что доля людей с высокими зп в менеджементе самая высокая - больше трети людей получают \"высокую\" зп работая в управлении. Что примечательно, доля людей с низкой зарплатой в менджменте тоже высока. Возможно, к \"управлению\" по штатке отностятся также секретариат, личные помощники, уборщики и тд. Если это не так - я бы порекомендовал пересмотреть систему компенсации у некоторых членов руководства :) \n",
    "Большое количество работников с высокой ЗП наблюдается также среди продавцов и технических спецов - но это обусловлено в первую очередь большим количеством людей, которые там работают - в целом, соотношение \"бедных\", \"богатых\" и \"средних\" в этих отделах не сильно отличается от среднего по компании. \n",
    "По остальным отделам картина в целом также не отличается от общих показателей - преобладание людей с низкой ЗП (исключение - hr, в котором преобладает средний класс), чуть меньшее количество людей со средней зп, и крайне низкое кол-во людей с высокой зп."
   ]
  },
  {
   "cell_type": "markdown",
   "metadata": {},
   "source": [
    "Проверить гипотезу, что сотрудники с высоким окладом проводят на работе больше времени, чем сотрудники с низким окладом"
   ]
  },
  {
   "cell_type": "code",
   "execution_count": 81,
   "metadata": {},
   "outputs": [
    {
     "data": {
      "text/html": [
       "<div>\n",
       "<style scoped>\n",
       "    .dataframe tbody tr th:only-of-type {\n",
       "        vertical-align: middle;\n",
       "    }\n",
       "\n",
       "    .dataframe tbody tr th {\n",
       "        vertical-align: top;\n",
       "    }\n",
       "\n",
       "    .dataframe thead th {\n",
       "        text-align: right;\n",
       "    }\n",
       "</style>\n",
       "<table border=\"1\" class=\"dataframe\">\n",
       "  <thead>\n",
       "    <tr style=\"text-align: right;\">\n",
       "      <th></th>\n",
       "      <th>average_montly_hours</th>\n",
       "    </tr>\n",
       "    <tr>\n",
       "      <th>salary</th>\n",
       "      <th></th>\n",
       "    </tr>\n",
       "  </thead>\n",
       "  <tbody>\n",
       "    <tr>\n",
       "      <th>high</th>\n",
       "      <td>199.867421</td>\n",
       "    </tr>\n",
       "    <tr>\n",
       "      <th>low</th>\n",
       "      <td>200.996583</td>\n",
       "    </tr>\n",
       "    <tr>\n",
       "      <th>medium</th>\n",
       "      <td>201.338349</td>\n",
       "    </tr>\n",
       "  </tbody>\n",
       "</table>\n",
       "</div>"
      ],
      "text/plain": [
       "        average_montly_hours\n",
       "salary                      \n",
       "high              199.867421\n",
       "low               200.996583\n",
       "medium            201.338349"
      ]
     },
     "execution_count": 81,
     "metadata": {},
     "output_type": "execute_result"
    }
   ],
   "source": [
    "df_hours_salary = df[['salary', 'average_montly_hours']]\n",
    "df_hours_salary.groupby('salary').mean()"
   ]
  },
  {
   "cell_type": "markdown",
   "metadata": {},
   "source": [
    "В целом видно, что среднее количество времени, проводимое на работе, практически равно 200 вне зависимости от размера оклада. Так что гипотеза неверна. "
   ]
  },
  {
   "cell_type": "markdown",
   "metadata": {},
   "source": [
    "Рассчитать следующие показатели среди уволившихся и неуволившихся сотрудников (по отдельности):.\n",
    "\n",
    "    Доля сотрудников с повышением за последние 5 лет\n",
    "    \n",
    "    Средняя степень удовлетворенности\n",
    "    \n",
    "    Среднее количество проектов"
   ]
  },
  {
   "cell_type": "code",
   "execution_count": 117,
   "metadata": {},
   "outputs": [
    {
     "data": {
      "text/html": [
       "<div>\n",
       "<style scoped>\n",
       "    .dataframe tbody tr th:only-of-type {\n",
       "        vertical-align: middle;\n",
       "    }\n",
       "\n",
       "    .dataframe tbody tr th {\n",
       "        vertical-align: top;\n",
       "    }\n",
       "\n",
       "    .dataframe thead th {\n",
       "        text-align: right;\n",
       "    }\n",
       "</style>\n",
       "<table border=\"1\" class=\"dataframe\">\n",
       "  <thead>\n",
       "    <tr style=\"text-align: right;\">\n",
       "      <th></th>\n",
       "      <th>promoted_level</th>\n",
       "      <th>sat_level_mean</th>\n",
       "      <th>project_count_mean</th>\n",
       "    </tr>\n",
       "  </thead>\n",
       "  <tbody>\n",
       "    <tr>\n",
       "      <th>left</th>\n",
       "      <td>0.005321</td>\n",
       "      <td>0.440098</td>\n",
       "      <td>3.855503</td>\n",
       "    </tr>\n",
       "    <tr>\n",
       "      <th>not_left</th>\n",
       "      <td>0.026251</td>\n",
       "      <td>0.666810</td>\n",
       "      <td>3.786664</td>\n",
       "    </tr>\n",
       "  </tbody>\n",
       "</table>\n",
       "</div>"
      ],
      "text/plain": [
       "          promoted_level  sat_level_mean  project_count_mean\n",
       "left            0.005321        0.440098            3.855503\n",
       "not_left        0.026251        0.666810            3.786664"
      ]
     },
     "execution_count": 117,
     "metadata": {},
     "output_type": "execute_result"
    }
   ],
   "source": [
    "df_left = df[df['left']==1]\n",
    "df_not_left = df[df['left']==0]\n",
    "\n",
    "def calculate_features(df):\n",
    "    result = {}\n",
    "    result['promoted_level'] = df[df['promotion_last_5years']==1].shape[0] / df.shape[0]\n",
    "    result['sat_level_mean'] = df['satisfaction_level'].mean()\n",
    "    result['project_count_mean'] = df['number_project'].mean()\n",
    "    \n",
    "    return result\n",
    "\n",
    "result = {}\n",
    "result['left'] = calculate_features(df_left)\n",
    "result['not_left'] = calculate_features(df_not_left)\n",
    "df_result = pd.DataFrame.from_dict(result)\n",
    "df_result.T"
   ]
  },
  {
   "cell_type": "markdown",
   "metadata": {},
   "source": [
    "Как можем видеть из таблицы, доля сотрудников с промоутом среди тех, кто уволился в 5 раз ниже чем тех, кто остался работать. Сложно сказать, что первично (сотрудники увольняются, потому что не получают повышения, или остаются работать, потому что их повысили), но очевидно что связь между этими показателями есть.\n",
    "\n",
    "Также можно проследить связь между удовлетвоорённостью сотрудника и тем, уволился он или нет - как и следовало ожидать, увольняются обычно менее довольные сотрудники. \n",
    "\n",
    "Если говорить про количество проектов, в которых участвуют сотрудники - здесь однозначных выводов сделать не полуается. В целом, среднее количество проектов у уволившихся и оставшихся примерно одинаковое - скорее всего, эти параметры никак не взаимосвязаны."
   ]
  },
  {
   "cell_type": "markdown",
   "metadata": {},
   "source": [
    "Разделить данные на тестовую и обучающую выборки\n",
    "\n",
    "Построить модель LDA, предсказывающую уволился ли сотрудник на основе имеющихся факторов (кроме department и salary)\n",
    "\n",
    "Оценить качество модели на тестовой выборке"
   ]
  },
  {
   "cell_type": "code",
   "execution_count": 206,
   "metadata": {},
   "outputs": [
    {
     "name": "stdout",
     "output_type": "stream",
     "text": [
      "precision: 0.47733333333333333 \n",
      " recall: 0.2472375690607735 \n",
      " accuracy: 0.753\n"
     ]
    }
   ],
   "source": [
    "df_model = df.drop(['salary', 'department'], axis=1)\n",
    "\n",
    "df_train, df_test = train_test_split(df_model, test_size=0.2)\n",
    "\n",
    "y_train, y_test = df_train['left'], df_test['left']\n",
    "del df_train['left']\n",
    "del df_test['left']\n",
    "\n",
    "\n",
    "lda = LinearDiscriminantAnalysis()\n",
    "lda.fit(df_train, y_train)\n",
    "pr = precision_score(y_test, lda.predict(df_test))\n",
    "re = recall_score(y_test, lda.predict(df_test))\n",
    "ac = accuracy_score(y_test, lda.predict(df_test))\n",
    "print(f'precision: {pr} \\n recall: {re} \\n accuracy: {ac}')"
   ]
  }
 ],
 "metadata": {
  "kernelspec": {
   "display_name": "Python 3",
   "language": "python",
   "name": "python3"
  },
  "language_info": {
   "codemirror_mode": {
    "name": "ipython",
    "version": 3
   },
   "file_extension": ".py",
   "mimetype": "text/x-python",
   "name": "python",
   "nbconvert_exporter": "python",
   "pygments_lexer": "ipython3",
   "version": "3.8.3"
  }
 },
 "nbformat": 4,
 "nbformat_minor": 4
}
