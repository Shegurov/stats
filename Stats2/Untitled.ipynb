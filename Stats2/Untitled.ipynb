{
 "cells": [
  {
   "cell_type": "markdown",
   "metadata": {},
   "source": [
    "Смоделировать игру против лотерейного автомата типа “777”. Игрок платит 1 руб., после чего выпадает случайное целое число, равномерно распределенное от 0 до 999. При некоторых значениях числа игрок получает выигрыш"
   ]
  },
  {
   "cell_type": "markdown",
   "metadata": {},
   "source": [
    "Выгодна ли игра игроку?\n",
    "\n",
    "Сколько в среднем приобретает\n",
    "или теряет игрок за одну игру?"
   ]
  },
  {
   "cell_type": "markdown",
   "metadata": {},
   "source": [
    "777: 200 руб.\n",
    "999: 100 руб.\n",
    "555: 50 руб.\n",
    "333: 15 руб.\n",
    "111: 10 руб.\n",
    "*77: 5 руб.\n",
    "**7: 3 руб.\n",
    "*00: 2 руб.\n",
    "**0: 1 руб."
   ]
  },
  {
   "cell_type": "code",
   "execution_count": 323,
   "metadata": {},
   "outputs": [],
   "source": [
    "import numpy as np\n",
    "import matplotlib.pyplot as plt"
   ]
  },
  {
   "cell_type": "code",
   "execution_count": 324,
   "metadata": {},
   "outputs": [],
   "source": [
    "# Функция расчёта приза\n",
    "def calculte_prize(n):\n",
    "    if n == 777:\n",
    "        return 200\n",
    "    elif n == 999:\n",
    "        return 100\n",
    "    elif n == 555:\n",
    "        return 50\n",
    "    elif n == 333:\n",
    "        return 15\n",
    "    elif n == 111:\n",
    "        return 10\n",
    "    elif n == 77:\n",
    "        return 5\n",
    "    elif n % 10 == 7:\n",
    "        return 3\n",
    "    elif n % 100 == 0:\n",
    "        return 2\n",
    "    elif n % 10 == 0:\n",
    "        return 1\n",
    "    else:\n",
    "        return 0"
   ]
  },
  {
   "cell_type": "code",
   "execution_count": 325,
   "metadata": {},
   "outputs": [],
   "source": [
    "# Расчитаем выигрыш по заданному количеству попыток: \n",
    "def total_prize_calculate(trials_qty):\n",
    "    result = np.random.randint(1, 1000, trials_qty)\n",
    "    prizes = list(map(calculte_prize, result))\n",
    "    return sum(prizes) - trials_qty"
   ]
  },
  {
   "cell_type": "code",
   "execution_count": 407,
   "metadata": {},
   "outputs": [
    {
     "name": "stdout",
     "output_type": "stream",
     "text": [
      "-0.17622\n"
     ]
    }
   ],
   "source": [
    "# Попробуем сэмулировать 100000 попыток игры на 1 рубль: \n",
    "result = []\n",
    "for i in range(100000):\n",
    "    result.append(total_prize_calculate(1))\n",
    "print(sum(result) / len(result))"
   ]
  },
  {
   "cell_type": "markdown",
   "metadata": {},
   "source": [
    "Дополнительное задание повышенной сложности. Теоретически рассчитать средний выигрыш (проигрыш) и сравнить с результатами моделирования"
   ]
  },
  {
   "cell_type": "code",
   "execution_count": 391,
   "metadata": {},
   "outputs": [],
   "source": [
    "theoretical_prize = (1 / 999 * 200) + (1 / 999 * 100) + (1 / 999 * 50) + (1 / 999 * 15) + (1 / 999 * 10) + (1 / 999 * 5) + (98 / 999 * 3) + (9 / 999 * 2) + (90 / 999 * 1) - 1"
   ]
  },
  {
   "cell_type": "code",
   "execution_count": 390,
   "metadata": {},
   "outputs": [
    {
     "data": {
      "text/plain": [
       "-0.21721721721721732"
      ]
     },
     "execution_count": 390,
     "metadata": {},
     "output_type": "execute_result"
    }
   ],
   "source": [
    "theoretical_prize"
   ]
  },
  {
   "cell_type": "code",
   "execution_count": null,
   "metadata": {},
   "outputs": [],
   "source": []
  }
 ],
 "metadata": {
  "kernelspec": {
   "display_name": "Python 3",
   "language": "python",
   "name": "python3"
  },
  "language_info": {
   "codemirror_mode": {
    "name": "ipython",
    "version": 3
   },
   "file_extension": ".py",
   "mimetype": "text/x-python",
   "name": "python",
   "nbconvert_exporter": "python",
   "pygments_lexer": "ipython3",
   "version": "3.8.3"
  }
 },
 "nbformat": 4,
 "nbformat_minor": 4
}
